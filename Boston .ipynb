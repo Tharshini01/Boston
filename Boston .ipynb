{
  "nbformat": 4,
  "nbformat_minor": 0,
  "metadata": {
    "colab": {
      "name": "Boston.ipynb",
      "provenance": [],
      "collapsed_sections": []
    },
    "kernelspec": {
      "name": "python3",
      "display_name": "Python 3"
    },
    "language_info": {
      "name": "python"
    }
  },
  "cells": [
    {
      "cell_type": "code",
      "source": [
        "pip install pyspark"
      ],
      "metadata": {
        "colab": {
          "base_uri": "https://localhost:8080/"
        },
        "id": "Pe2PClYqF9ua",
        "outputId": "9d2b0347-b9c1-4814-f970-0d02b7b3f5e9"
      },
      "execution_count": 2,
      "outputs": [
        {
          "output_type": "stream",
          "name": "stdout",
          "text": [
            "Looking in indexes: https://pypi.org/simple, https://us-python.pkg.dev/colab-wheels/public/simple/\n",
            "Collecting pyspark\n",
            "  Downloading pyspark-3.2.1.tar.gz (281.4 MB)\n",
            "\u001b[K     |████████████████████████████████| 281.4 MB 36 kB/s \n",
            "\u001b[?25hCollecting py4j==0.10.9.3\n",
            "  Downloading py4j-0.10.9.3-py2.py3-none-any.whl (198 kB)\n",
            "\u001b[K     |████████████████████████████████| 198 kB 19.0 MB/s \n",
            "\u001b[?25hBuilding wheels for collected packages: pyspark\n",
            "  Building wheel for pyspark (setup.py) ... \u001b[?25l\u001b[?25hdone\n",
            "  Created wheel for pyspark: filename=pyspark-3.2.1-py2.py3-none-any.whl size=281853642 sha256=7a3e04eb7ce10016684010aa7661a5839ea9f0a6e71254c77d9d559dc980b690\n",
            "  Stored in directory: /root/.cache/pip/wheels/9f/f5/07/7cd8017084dce4e93e84e92efd1e1d5334db05f2e83bcef74f\n",
            "Successfully built pyspark\n",
            "Installing collected packages: py4j, pyspark\n",
            "Successfully installed py4j-0.10.9.3 pyspark-3.2.1\n"
          ]
        }
      ]
    },
    {
      "cell_type": "markdown",
      "source": [
        "### Importing the modules"
      ],
      "metadata": {
        "id": "wIO5KK41GquA"
      }
    },
    {
      "cell_type": "code",
      "execution_count": 3,
      "metadata": {
        "id": "E8ZhoCrHADe_"
      },
      "outputs": [],
      "source": [
        "import pyspark\n",
        "from pyspark.sql import SparkSession\n",
        "from pyspark.sql import Row\n",
        "appName= \"hive_pyspark\"\n",
        "master= \"local\""
      ]
    },
    {
      "cell_type": "markdown",
      "source": [
        "### Creating Spark Session\n"
      ],
      "metadata": {
        "id": "Ezh41depGy0b"
      }
    },
    {
      "cell_type": "code",
      "source": [
        "spark = SparkSession.builder \\\n",
        "\t.master(master).appName(appName).enableHiveSupport().getOrCreate()"
      ],
      "metadata": {
        "id": "JI9tGa8lAq26"
      },
      "execution_count": 4,
      "outputs": []
    },
    {
      "cell_type": "markdown",
      "source": [
        "### 1. Reading CSV File and Writing to Table"
      ],
      "metadata": {
        "id": "GPyoBdhOHNvX"
      }
    },
    {
      "cell_type": "code",
      "source": [
        "df=spark.read.csv(\"boston.csv\",header=True, inferSchema= True)\n",
        "df.show(5)\n",
        "datafile.write.saveAsTable(\"BostonData\")"
      ],
      "metadata": {
        "colab": {
          "base_uri": "https://localhost:8080/"
        },
        "id": "78JIhIoFHCrH",
        "outputId": "b5eae384-dd33-454f-9f0d-cc8f629a435a"
      },
      "execution_count": 25,
      "outputs": [
        {
          "output_type": "stream",
          "name": "stdout",
          "text": [
            "+-----------+----+-----------+----+-----------+-----------+-----------+-----------+---+---+-----------+-----------+-----------+-----------+\n",
            "|       CRIM|  ZN|      INDUS|CHAS|        NOX|         RM|        AGE|        DIS|RAD|TAX|         PT|          B|      LSTAT|         MV|\n",
            "+-----------+----+-----------+----+-----------+-----------+-----------+-----------+---+---+-----------+-----------+-----------+-----------+\n",
            "|    0.00632|18.0|2.309999943|   0|0.537999988|6.574999809|65.19999695|4.090000153|  1|296|15.30000019|396.8999939|4.980000019|       24.0|\n",
            "|0.027310001| 0.0|7.070000172|   0|0.469000012|6.421000004|78.90000153|4.967100143|  2|242|17.79999924|396.8999939|9.140000343|21.60000038|\n",
            "|    0.02729| 0.0|7.070000172|   0|0.469000012|7.184999943|61.09999847|4.967100143|  2|242|17.79999924|392.8299866| 4.03000021|34.70000076|\n",
            "|0.032370001| 0.0|2.180000067|   0|0.458000004|6.998000145|45.79999924|6.062200069|  3|222|18.70000076|394.6300049|2.940000057|33.40000153|\n",
            "|0.069049999| 0.0|2.180000067|   0|0.458000004|7.146999836|54.20000076|6.062200069|  3|222|18.70000076|396.8999939|5.329999924|36.20000076|\n",
            "+-----------+----+-----------+----+-----------+-----------+-----------+-----------+---+---+-----------+-----------+-----------+-----------+\n",
            "only showing top 5 rows\n",
            "\n"
          ]
        }
      ]
    },
    {
      "cell_type": "markdown",
      "source": [
        "### 2. Fetching rows from the table"
      ],
      "metadata": {
        "id": "Wk7ulQQ8H4-q"
      }
    },
    {
      "cell_type": "code",
      "source": [
        "df1=spark.sql(\"select * from BostonData limit 5\")\n",
        "df1.show()"
      ],
      "metadata": {
        "colab": {
          "base_uri": "https://localhost:8080/"
        },
        "id": "YPADoS9IHk8W",
        "outputId": "3707fd6f-2bb4-405a-b4e6-b11b93c2f2be"
      },
      "execution_count": 26,
      "outputs": [
        {
          "output_type": "stream",
          "name": "stdout",
          "text": [
            "+-----------+---+-----------+----+-----------+-----------+-----------+-----------+---+---+-----------+-----------+-----------+-----------+\n",
            "|       CRIM| ZN|      INDUS|CHAS|        NOX|         RM|        AGE|        DIS|RAD|TAX|         PT|          B|      LSTAT|         MV|\n",
            "+-----------+---+-----------+----+-----------+-----------+-----------+-----------+---+---+-----------+-----------+-----------+-----------+\n",
            "|    0.00632| 18|2.309999943|   0|0.537999988|6.574999809|65.19999695|4.090000153|  1|296|15.30000019|396.8999939|4.980000019|         24|\n",
            "|0.027310001|  0|7.070000172|   0|0.469000012|6.421000004|78.90000153|4.967100143|  2|242|17.79999924|396.8999939|9.140000343|21.60000038|\n",
            "|    0.02729|  0|7.070000172|   0|0.469000012|7.184999943|61.09999847|4.967100143|  2|242|17.79999924|392.8299866| 4.03000021|34.70000076|\n",
            "|0.032370001|  0|2.180000067|   0|0.458000004|6.998000145|45.79999924|6.062200069|  3|222|18.70000076|394.6300049|2.940000057|33.40000153|\n",
            "|0.069049999|  0|2.180000067|   0|0.458000004|7.146999836|54.20000076|6.062200069|  3|222|18.70000076|396.8999939|5.329999924|36.20000076|\n",
            "+-----------+---+-----------+----+-----------+-----------+-----------+-----------+---+---+-----------+-----------+-----------+-----------+\n",
            "\n"
          ]
        }
      ]
    },
    {
      "cell_type": "markdown",
      "source": [
        "## Data exploration"
      ],
      "metadata": {
        "id": "ZmOb6wRMJYLt"
      }
    },
    {
      "cell_type": "markdown",
      "source": [
        "### Printing the schema of the table"
      ],
      "metadata": {
        "id": "sp30IH0CIHQz"
      }
    },
    {
      "cell_type": "code",
      "source": [
        "df.printSchema()"
      ],
      "metadata": {
        "colab": {
          "base_uri": "https://localhost:8080/"
        },
        "id": "E80E1ZO0ICRE",
        "outputId": "1db5f197-f95e-4161-aba8-731929338d45"
      },
      "execution_count": 28,
      "outputs": [
        {
          "output_type": "stream",
          "name": "stdout",
          "text": [
            "root\n",
            " |-- CRIM: double (nullable = true)\n",
            " |-- ZN: double (nullable = true)\n",
            " |-- INDUS: double (nullable = true)\n",
            " |-- CHAS: integer (nullable = true)\n",
            " |-- NOX: double (nullable = true)\n",
            " |-- RM: double (nullable = true)\n",
            " |-- AGE: double (nullable = true)\n",
            " |-- DIS: double (nullable = true)\n",
            " |-- RAD: integer (nullable = true)\n",
            " |-- TAX: integer (nullable = true)\n",
            " |-- PT: double (nullable = true)\n",
            " |-- B: double (nullable = true)\n",
            " |-- LSTAT: double (nullable = true)\n",
            " |-- MV: double (nullable = true)\n",
            "\n"
          ]
        }
      ]
    },
    {
      "cell_type": "code",
      "source": [
        "print(df.count())"
      ],
      "metadata": {
        "colab": {
          "base_uri": "https://localhost:8080/"
        },
        "id": "2BLTfNQnQa4U",
        "outputId": "39728fe3-57c8-41be-d7e8-bea87fd0c88d"
      },
      "execution_count": 33,
      "outputs": [
        {
          "output_type": "stream",
          "name": "stdout",
          "text": [
            "506\n"
          ]
        }
      ]
    },
    {
      "cell_type": "markdown",
      "source": [
        "### Performing descriptive analytics"
      ],
      "metadata": {
        "id": "K1AVzEPMJpyb"
      }
    },
    {
      "cell_type": "code",
      "source": [
        "df.describe().toPandas().transpose()"
      ],
      "metadata": {
        "colab": {
          "base_uri": "https://localhost:8080/",
          "height": 520
        },
        "id": "QWF3so-jIbne",
        "outputId": "0923da72-4e9c-4034-c489-7bb33608ae26"
      },
      "execution_count": 29,
      "outputs": [
        {
          "output_type": "execute_result",
          "data": {
            "text/plain": [
              "             0                   1                   2            3  \\\n",
              "summary  count                mean              stddev          min   \n",
              "CRIM       506  3.6135235608162057   8.601545086715594      0.00632   \n",
              "ZN         506  11.363636363636363   23.32245299451514          0.0   \n",
              "INDUS      506  11.136778749531626    6.86035298095724  0.460000008   \n",
              "CHAS       506  0.0691699604743083  0.2539940413404101            0   \n",
              "NOX        506  0.5546950602312246  0.1158776754570543   0.38499999   \n",
              "RM         506    6.28463438896641  0.7026171549511354  3.561000109   \n",
              "AGE        506   68.57490120115612  28.148861532793276  2.900000095   \n",
              "DIS        506  3.7950426960059325   2.105710142043288  1.129600048   \n",
              "RAD        506   9.549407114624506   8.707259384239366            1   \n",
              "TAX        506   408.2371541501976  168.53711605495903          187   \n",
              "PT         506   18.45553382776679   2.164945780039869  12.60000038   \n",
              "B          506  356.67402960597883   91.29486340272308  0.319999993   \n",
              "LSTAT      506  12.653063233922925   7.141061500195388  1.730000019   \n",
              "MV         506   22.53280636250988   9.197104107945272          5.0   \n",
              "\n",
              "                   4  \n",
              "summary          max  \n",
              "CRIM     88.97619629  \n",
              "ZN             100.0  \n",
              "INDUS    27.73999977  \n",
              "CHAS               1  \n",
              "NOX      0.870999992  \n",
              "RM       8.779999733  \n",
              "AGE            100.0  \n",
              "DIS      12.12650013  \n",
              "RAD               24  \n",
              "TAX              711  \n",
              "PT              22.0  \n",
              "B        396.8999939  \n",
              "LSTAT    37.97000122  \n",
              "MV              50.0  "
            ],
            "text/html": [
              "\n",
              "  <div id=\"df-c5edaaf9-81f5-40f4-8244-3c06e66859e5\">\n",
              "    <div class=\"colab-df-container\">\n",
              "      <div>\n",
              "<style scoped>\n",
              "    .dataframe tbody tr th:only-of-type {\n",
              "        vertical-align: middle;\n",
              "    }\n",
              "\n",
              "    .dataframe tbody tr th {\n",
              "        vertical-align: top;\n",
              "    }\n",
              "\n",
              "    .dataframe thead th {\n",
              "        text-align: right;\n",
              "    }\n",
              "</style>\n",
              "<table border=\"1\" class=\"dataframe\">\n",
              "  <thead>\n",
              "    <tr style=\"text-align: right;\">\n",
              "      <th></th>\n",
              "      <th>0</th>\n",
              "      <th>1</th>\n",
              "      <th>2</th>\n",
              "      <th>3</th>\n",
              "      <th>4</th>\n",
              "    </tr>\n",
              "  </thead>\n",
              "  <tbody>\n",
              "    <tr>\n",
              "      <th>summary</th>\n",
              "      <td>count</td>\n",
              "      <td>mean</td>\n",
              "      <td>stddev</td>\n",
              "      <td>min</td>\n",
              "      <td>max</td>\n",
              "    </tr>\n",
              "    <tr>\n",
              "      <th>CRIM</th>\n",
              "      <td>506</td>\n",
              "      <td>3.6135235608162057</td>\n",
              "      <td>8.601545086715594</td>\n",
              "      <td>0.00632</td>\n",
              "      <td>88.97619629</td>\n",
              "    </tr>\n",
              "    <tr>\n",
              "      <th>ZN</th>\n",
              "      <td>506</td>\n",
              "      <td>11.363636363636363</td>\n",
              "      <td>23.32245299451514</td>\n",
              "      <td>0.0</td>\n",
              "      <td>100.0</td>\n",
              "    </tr>\n",
              "    <tr>\n",
              "      <th>INDUS</th>\n",
              "      <td>506</td>\n",
              "      <td>11.136778749531626</td>\n",
              "      <td>6.86035298095724</td>\n",
              "      <td>0.460000008</td>\n",
              "      <td>27.73999977</td>\n",
              "    </tr>\n",
              "    <tr>\n",
              "      <th>CHAS</th>\n",
              "      <td>506</td>\n",
              "      <td>0.0691699604743083</td>\n",
              "      <td>0.2539940413404101</td>\n",
              "      <td>0</td>\n",
              "      <td>1</td>\n",
              "    </tr>\n",
              "    <tr>\n",
              "      <th>NOX</th>\n",
              "      <td>506</td>\n",
              "      <td>0.5546950602312246</td>\n",
              "      <td>0.1158776754570543</td>\n",
              "      <td>0.38499999</td>\n",
              "      <td>0.870999992</td>\n",
              "    </tr>\n",
              "    <tr>\n",
              "      <th>RM</th>\n",
              "      <td>506</td>\n",
              "      <td>6.28463438896641</td>\n",
              "      <td>0.7026171549511354</td>\n",
              "      <td>3.561000109</td>\n",
              "      <td>8.779999733</td>\n",
              "    </tr>\n",
              "    <tr>\n",
              "      <th>AGE</th>\n",
              "      <td>506</td>\n",
              "      <td>68.57490120115612</td>\n",
              "      <td>28.148861532793276</td>\n",
              "      <td>2.900000095</td>\n",
              "      <td>100.0</td>\n",
              "    </tr>\n",
              "    <tr>\n",
              "      <th>DIS</th>\n",
              "      <td>506</td>\n",
              "      <td>3.7950426960059325</td>\n",
              "      <td>2.105710142043288</td>\n",
              "      <td>1.129600048</td>\n",
              "      <td>12.12650013</td>\n",
              "    </tr>\n",
              "    <tr>\n",
              "      <th>RAD</th>\n",
              "      <td>506</td>\n",
              "      <td>9.549407114624506</td>\n",
              "      <td>8.707259384239366</td>\n",
              "      <td>1</td>\n",
              "      <td>24</td>\n",
              "    </tr>\n",
              "    <tr>\n",
              "      <th>TAX</th>\n",
              "      <td>506</td>\n",
              "      <td>408.2371541501976</td>\n",
              "      <td>168.53711605495903</td>\n",
              "      <td>187</td>\n",
              "      <td>711</td>\n",
              "    </tr>\n",
              "    <tr>\n",
              "      <th>PT</th>\n",
              "      <td>506</td>\n",
              "      <td>18.45553382776679</td>\n",
              "      <td>2.164945780039869</td>\n",
              "      <td>12.60000038</td>\n",
              "      <td>22.0</td>\n",
              "    </tr>\n",
              "    <tr>\n",
              "      <th>B</th>\n",
              "      <td>506</td>\n",
              "      <td>356.67402960597883</td>\n",
              "      <td>91.29486340272308</td>\n",
              "      <td>0.319999993</td>\n",
              "      <td>396.8999939</td>\n",
              "    </tr>\n",
              "    <tr>\n",
              "      <th>LSTAT</th>\n",
              "      <td>506</td>\n",
              "      <td>12.653063233922925</td>\n",
              "      <td>7.141061500195388</td>\n",
              "      <td>1.730000019</td>\n",
              "      <td>37.97000122</td>\n",
              "    </tr>\n",
              "    <tr>\n",
              "      <th>MV</th>\n",
              "      <td>506</td>\n",
              "      <td>22.53280636250988</td>\n",
              "      <td>9.197104107945272</td>\n",
              "      <td>5.0</td>\n",
              "      <td>50.0</td>\n",
              "    </tr>\n",
              "  </tbody>\n",
              "</table>\n",
              "</div>\n",
              "      <button class=\"colab-df-convert\" onclick=\"convertToInteractive('df-c5edaaf9-81f5-40f4-8244-3c06e66859e5')\"\n",
              "              title=\"Convert this dataframe to an interactive table.\"\n",
              "              style=\"display:none;\">\n",
              "        \n",
              "  <svg xmlns=\"http://www.w3.org/2000/svg\" height=\"24px\"viewBox=\"0 0 24 24\"\n",
              "       width=\"24px\">\n",
              "    <path d=\"M0 0h24v24H0V0z\" fill=\"none\"/>\n",
              "    <path d=\"M18.56 5.44l.94 2.06.94-2.06 2.06-.94-2.06-.94-.94-2.06-.94 2.06-2.06.94zm-11 1L8.5 8.5l.94-2.06 2.06-.94-2.06-.94L8.5 2.5l-.94 2.06-2.06.94zm10 10l.94 2.06.94-2.06 2.06-.94-2.06-.94-.94-2.06-.94 2.06-2.06.94z\"/><path d=\"M17.41 7.96l-1.37-1.37c-.4-.4-.92-.59-1.43-.59-.52 0-1.04.2-1.43.59L10.3 9.45l-7.72 7.72c-.78.78-.78 2.05 0 2.83L4 21.41c.39.39.9.59 1.41.59.51 0 1.02-.2 1.41-.59l7.78-7.78 2.81-2.81c.8-.78.8-2.07 0-2.86zM5.41 20L4 18.59l7.72-7.72 1.47 1.35L5.41 20z\"/>\n",
              "  </svg>\n",
              "      </button>\n",
              "      \n",
              "  <style>\n",
              "    .colab-df-container {\n",
              "      display:flex;\n",
              "      flex-wrap:wrap;\n",
              "      gap: 12px;\n",
              "    }\n",
              "\n",
              "    .colab-df-convert {\n",
              "      background-color: #E8F0FE;\n",
              "      border: none;\n",
              "      border-radius: 50%;\n",
              "      cursor: pointer;\n",
              "      display: none;\n",
              "      fill: #1967D2;\n",
              "      height: 32px;\n",
              "      padding: 0 0 0 0;\n",
              "      width: 32px;\n",
              "    }\n",
              "\n",
              "    .colab-df-convert:hover {\n",
              "      background-color: #E2EBFA;\n",
              "      box-shadow: 0px 1px 2px rgba(60, 64, 67, 0.3), 0px 1px 3px 1px rgba(60, 64, 67, 0.15);\n",
              "      fill: #174EA6;\n",
              "    }\n",
              "\n",
              "    [theme=dark] .colab-df-convert {\n",
              "      background-color: #3B4455;\n",
              "      fill: #D2E3FC;\n",
              "    }\n",
              "\n",
              "    [theme=dark] .colab-df-convert:hover {\n",
              "      background-color: #434B5C;\n",
              "      box-shadow: 0px 1px 3px 1px rgba(0, 0, 0, 0.15);\n",
              "      filter: drop-shadow(0px 1px 2px rgba(0, 0, 0, 0.3));\n",
              "      fill: #FFFFFF;\n",
              "    }\n",
              "  </style>\n",
              "\n",
              "      <script>\n",
              "        const buttonEl =\n",
              "          document.querySelector('#df-c5edaaf9-81f5-40f4-8244-3c06e66859e5 button.colab-df-convert');\n",
              "        buttonEl.style.display =\n",
              "          google.colab.kernel.accessAllowed ? 'block' : 'none';\n",
              "\n",
              "        async function convertToInteractive(key) {\n",
              "          const element = document.querySelector('#df-c5edaaf9-81f5-40f4-8244-3c06e66859e5');\n",
              "          const dataTable =\n",
              "            await google.colab.kernel.invokeFunction('convertToInteractive',\n",
              "                                                     [key], {});\n",
              "          if (!dataTable) return;\n",
              "\n",
              "          const docLinkHtml = 'Like what you see? Visit the ' +\n",
              "            '<a target=\"_blank\" href=https://colab.research.google.com/notebooks/data_table.ipynb>data table notebook</a>'\n",
              "            + ' to learn more about interactive tables.';\n",
              "          element.innerHTML = '';\n",
              "          dataTable['output_type'] = 'display_data';\n",
              "          await google.colab.output.renderOutput(dataTable, element);\n",
              "          const docLink = document.createElement('div');\n",
              "          docLink.innerHTML = docLinkHtml;\n",
              "          element.appendChild(docLink);\n",
              "        }\n",
              "      </script>\n",
              "    </div>\n",
              "  </div>\n",
              "  "
            ]
          },
          "metadata": {},
          "execution_count": 29
        }
      ]
    },
    {
      "cell_type": "markdown",
      "source": [
        "### 3. Correlation between independent variables and target variable"
      ],
      "metadata": {
        "id": "TyKGhIwrQDdG"
      }
    },
    {
      "cell_type": "code",
      "source": [
        "import six\n",
        "for i in df.columns:\n",
        "    if not( isinstance(df.select(i).take(1)[0][0], six.string_types)):\n",
        "        print( \"Correlation to MV for \", i, df.stat.corr('MV',i))"
      ],
      "metadata": {
        "colab": {
          "base_uri": "https://localhost:8080/"
        },
        "id": "vlmMlWLQKyqf",
        "outputId": "aa6190e0-cec2-4e18-a3df-5450571cae73"
      },
      "execution_count": 31,
      "outputs": [
        {
          "output_type": "stream",
          "name": "stdout",
          "text": [
            "Correlation to MV for  CRIM -0.3883046116575088\n",
            "Correlation to MV for  ZN 0.36044534463752903\n",
            "Correlation to MV for  INDUS -0.48372517128143383\n",
            "Correlation to MV for  CHAS 0.17526017775291847\n",
            "Correlation to MV for  NOX -0.4273207763683772\n",
            "Correlation to MV for  RM 0.695359937127267\n",
            "Correlation to MV for  AGE -0.37695456714288667\n",
            "Correlation to MV for  DIS 0.24992873873512172\n",
            "Correlation to MV for  RAD -0.3816262315669168\n",
            "Correlation to MV for  TAX -0.46853593528654536\n",
            "Correlation to MV for  PT -0.5077867038116085\n",
            "Correlation to MV for  B 0.3334608226834164\n",
            "Correlation to MV for  LSTAT -0.7376627294671615\n",
            "Correlation to MV for  MV 1.0\n"
          ]
        }
      ]
    },
    {
      "cell_type": "markdown",
      "source": [
        "### Preparing data for Machine Learning\n",
        "\n"
      ],
      "metadata": {
        "id": "iz-rp2IkSuxk"
      }
    },
    {
      "cell_type": "code",
      "source": [
        "from pyspark.ml.feature import VectorAssembler\n",
        "vectorAssembler = VectorAssembler(inputCols = ['CRIM', 'ZN', 'INDUS', 'CHAS', 'NOX', 'RM', 'AGE', 'DIS', 'RAD', 'TAX', 'PT', 'B', 'LSTAT'], outputCol = 'features')\n",
        "data = vectorAssembler.transform(df)\n",
        "data = data.select(['features', 'MV'])\n",
        "data.show(3)"
      ],
      "metadata": {
        "colab": {
          "base_uri": "https://localhost:8080/"
        },
        "id": "dMOw8ugCLYwZ",
        "outputId": "1692763e-701b-485c-dc9f-9ac8b5679693"
      },
      "execution_count": 32,
      "outputs": [
        {
          "output_type": "stream",
          "name": "stdout",
          "text": [
            "+--------------------+-----------+\n",
            "|            features|         MV|\n",
            "+--------------------+-----------+\n",
            "|[0.00632,18.0,2.3...|       24.0|\n",
            "|[0.027310001,0.0,...|21.60000038|\n",
            "|[0.02729,0.0,7.07...|34.70000076|\n",
            "+--------------------+-----------+\n",
            "only showing top 3 rows\n",
            "\n"
          ]
        }
      ]
    },
    {
      "cell_type": "code",
      "source": [
        "split = data.randomSplit([0.7, 0.3])\n",
        "train_df = split[0]\n",
        "test_df = split[1]"
      ],
      "metadata": {
        "id": "mojY1ZcyMUpC"
      },
      "execution_count": 36,
      "outputs": []
    },
    {
      "cell_type": "markdown",
      "source": [
        "## 4. Linear Regression"
      ],
      "metadata": {
        "id": "2KXQw-A6RGMy"
      }
    },
    {
      "cell_type": "code",
      "source": [
        "from pyspark.ml.regression import LinearRegression\n",
        "lr = LinearRegression(featuresCol = 'features', labelCol='MV', maxIter=10, regParam=0.3, elasticNetParam=0.8)\n",
        "model = lr.fit(train_df)\n",
        "print(\"Coefficients: \" + str(model.coefficients))\n",
        "print(\"Intercept: \" + str(model.intercept))"
      ],
      "metadata": {
        "colab": {
          "base_uri": "https://localhost:8080/"
        },
        "id": "-bV_Tt7CQ5LA",
        "outputId": "f8a77b57-9829-44ea-d012-001e48aad5fd"
      },
      "execution_count": 37,
      "outputs": [
        {
          "output_type": "stream",
          "name": "stdout",
          "text": [
            "Coefficients: [-0.047673944100257146,0.03647342467291216,-0.00015965117857064126,2.5045878267981356,-6.387117333907475,4.328036917361635,0.0,-0.8861832117982049,0.0,0.0,-0.6928954982414168,0.008936117245364859,-0.5346268137913528]\n",
            "Intercept: 18.285618677048184\n"
          ]
        }
      ]
    },
    {
      "cell_type": "markdown",
      "source": [
        "### Summarizing the model over the training set and print out RMSE & r2"
      ],
      "metadata": {
        "id": "bC08EMZeS-n6"
      }
    },
    {
      "cell_type": "code",
      "source": [
        "train_summary = model.summary\n",
        "print(\"RMSE: %f\" % train_summary.rootMeanSquaredError)\n",
        "print(\"r2: %f\" % train_summary.r2)\n",
        "# approximate 72% of the variability in “MV” is explained using the model "
      ],
      "metadata": {
        "colab": {
          "base_uri": "https://localhost:8080/"
        },
        "id": "2Zuy-mLGREG_",
        "outputId": "c9a43eda-11d2-4781-c33d-34488023c4d6"
      },
      "execution_count": 39,
      "outputs": [
        {
          "output_type": "stream",
          "name": "stdout",
          "text": [
            "RMSE: 5.021014\n",
            "r2: 0.720259\n"
          ]
        }
      ]
    },
    {
      "cell_type": "code",
      "source": [
        "train_df.describe().show()"
      ],
      "metadata": {
        "colab": {
          "base_uri": "https://localhost:8080/"
        },
        "id": "GiOxAWXlRV4q",
        "outputId": "23d3d459-04cf-48b0-dd0f-d9cf46457b19"
      },
      "execution_count": 40,
      "outputs": [
        {
          "output_type": "stream",
          "name": "stdout",
          "text": [
            "+-------+------------------+\n",
            "|summary|                MV|\n",
            "+-------+------------------+\n",
            "|  count|               351|\n",
            "|   mean|22.949287801692304|\n",
            "| stddev|  9.50677015970349|\n",
            "|    min|               5.0|\n",
            "|    max|              50.0|\n",
            "+-------+------------------+\n",
            "\n"
          ]
        }
      ]
    },
    {
      "cell_type": "markdown",
      "source": [
        "### 5. Evaluating the test data using RMSE &r2"
      ],
      "metadata": {
        "id": "fq1sUUGDVIB-"
      }
    },
    {
      "cell_type": "code",
      "source": [
        "pred = model.transform(test_df)\n",
        "pred.select(\"prediction\",\"MV\",\"features\").show(5)\n",
        "from pyspark.ml.evaluation import RegressionEvaluator\n",
        "eval = RegressionEvaluator(predictionCol=\"prediction\", \\\n",
        "                 labelCol=\"MV\",metricName=\"r2\")\n",
        "print(\"R Squared (R2) on test data = %g\" % eval.evaluate(pred))"
      ],
      "metadata": {
        "colab": {
          "base_uri": "https://localhost:8080/"
        },
        "id": "G6eK_oplRqZb",
        "outputId": "1c8f0925-9c7d-4091-8ec4-174304b654a6"
      },
      "execution_count": 41,
      "outputs": [
        {
          "output_type": "stream",
          "name": "stdout",
          "text": [
            "+------------------+-----------+--------------------+\n",
            "|        prediction|         MV|            features|\n",
            "+------------------+-----------+--------------------+\n",
            "|31.943134584708375|32.20000076|[0.00906,90.0,2.9...|\n",
            "|27.785387060556005|       22.0|[0.01096,55.0,2.2...|\n",
            "| 31.22425062929339|35.40000153|[0.01311,90.0,1.2...|\n",
            "| 18.41217950487228|18.89999962|[0.0136,75.0,4.0,...|\n",
            "| 32.36606656259259|31.60000038|[0.01432,100.0,1....|\n",
            "+------------------+-----------+--------------------+\n",
            "only showing top 5 rows\n",
            "\n",
            "R Squared (R2) on test data = 0.71874\n"
          ]
        }
      ]
    },
    {
      "cell_type": "code",
      "source": [
        "result = model.evaluate(test_df)\n",
        "print(\"Root Mean Squared Error (RMSE) on test data = %g\" % result.rootMeanSquaredError)"
      ],
      "metadata": {
        "colab": {
          "base_uri": "https://localhost:8080/"
        },
        "id": "kHo-55ssR83B",
        "outputId": "d11a684a-174b-4a93-c349-f0b20593a6df"
      },
      "execution_count": 42,
      "outputs": [
        {
          "output_type": "stream",
          "name": "stdout",
          "text": [
            "Root Mean Squared Error (RMSE) on test data = 4.44429\n"
          ]
        }
      ]
    },
    {
      "cell_type": "code",
      "source": [
        "print(\"numIterations: %d\" % train_summary.totalIterations)\n",
        "print(\"objectiveHistory: %s\" % str(train_summary.objectiveHistory))\n",
        "train_summary.residuals.show()"
      ],
      "metadata": {
        "colab": {
          "base_uri": "https://localhost:8080/"
        },
        "id": "_wc03TEsSEW1",
        "outputId": "50f096f7-858a-4ecb-a559-8d671b42fee9"
      },
      "execution_count": 43,
      "outputs": [
        {
          "output_type": "stream",
          "name": "stdout",
          "text": [
            "numIterations: 10\n",
            "objectiveHistory: [0.5000000000000004, 0.43533684898553865, 0.2347299998224293, 0.20949368286859374, 0.18338975243156624, 0.18094323682458072, 0.18016655301597984, 0.17936885186476423, 0.17832818622413543, 0.1775753486206481, 0.17746067702828583]\n"
          ]
        },
        {
          "output_type": "stream",
          "name": "stderr",
          "text": [
            "/usr/local/lib/python3.7/dist-packages/pyspark/sql/context.py:127: FutureWarning: Deprecated in 3.0.0. Use SparkSession.builder.getOrCreate() instead.\n",
            "  FutureWarning\n"
          ]
        },
        {
          "output_type": "stream",
          "name": "stdout",
          "text": [
            "+-------------------+\n",
            "|          residuals|\n",
            "+-------------------+\n",
            "| -6.620555694373017|\n",
            "| 1.0068722003211548|\n",
            "| 10.457479965805277|\n",
            "|-2.0976868175586105|\n",
            "|-3.7581211881315397|\n",
            "| 6.9918673863298295|\n",
            "|  7.530735573867005|\n",
            "| 0.3504311934349502|\n",
            "|  7.839294976312793|\n",
            "|-1.0813622360432227|\n",
            "|  8.907794993631867|\n",
            "|-2.0248618737414006|\n",
            "|  4.592436770615073|\n",
            "| -0.747083322119348|\n",
            "|  -9.07050717750991|\n",
            "|  3.694896394690822|\n",
            "|-3.4029100637716994|\n",
            "|0.21148878678473437|\n",
            "| -2.583178645424592|\n",
            "| 0.6715106035381098|\n",
            "+-------------------+\n",
            "only showing top 20 rows\n",
            "\n"
          ]
        }
      ]
    },
    {
      "cell_type": "code",
      "source": [
        "prediction = model.transform(test_df)\n",
        "prediction.select(\"prediction\",\"MV\",\"features\").show()"
      ],
      "metadata": {
        "colab": {
          "base_uri": "https://localhost:8080/"
        },
        "id": "xvljxZvVSPUC",
        "outputId": "0f0984d2-809f-4b81-913d-f096b4ac87f4"
      },
      "execution_count": 44,
      "outputs": [
        {
          "output_type": "stream",
          "name": "stdout",
          "text": [
            "+------------------+-----------+--------------------+\n",
            "|        prediction|         MV|            features|\n",
            "+------------------+-----------+--------------------+\n",
            "|31.943134584708375|32.20000076|[0.00906,90.0,2.9...|\n",
            "|27.785387060556005|       22.0|[0.01096,55.0,2.2...|\n",
            "| 31.22425062929339|35.40000153|[0.01311,90.0,1.2...|\n",
            "| 18.41217950487228|18.89999962|[0.0136,75.0,4.0,...|\n",
            "| 32.36606656259259|31.60000038|[0.01432,100.0,1....|\n",
            "| 26.57163925793752|30.10000038|[0.01709,90.0,2.0...|\n",
            "|26.985624977815355|23.10000038|[0.0187,85.0,4.15...|\n",
            "|28.612484680485835|23.89999962|[0.025429999,55.0...|\n",
            "|27.714442154810044|       22.0|[0.03537,34.0,6.0...|\n",
            "|23.180730724678263|20.89999962|[0.03548,80.0,3.6...|\n",
            "|30.466829985088367|27.89999962|[0.036150001,80.0...|\n",
            "| 22.45473336250261|20.70000076|[0.037379999,0.0,...|\n",
            "|26.226841850107373|23.20000076|[0.038710002,52.5...|\n",
            "| 21.08571798378793|21.10000038|[0.039609998,0.0,...|\n",
            "|24.922303611164327|23.29999924|[0.045600001,0.0,...|\n",
            "| 32.73541019587097|30.29999924|[0.046659999,80.0...|\n",
            "| 23.28289003248087|11.89999962|[0.04741,0.0,11.9...|\n",
            "|25.596565064510422|21.89999962|[0.048190001,80.0...|\n",
            "|30.065820438706304|28.20000076|[0.049320001,33.0...|\n",
            "|24.416146276061454|23.89999962|[0.050590001,0.0,...|\n",
            "+------------------+-----------+--------------------+\n",
            "only showing top 20 rows\n",
            "\n"
          ]
        }
      ]
    },
    {
      "cell_type": "code",
      "source": [
        ""
      ],
      "metadata": {
        "id": "y6iMYhhfShIi"
      },
      "execution_count": null,
      "outputs": []
    }
  ]
}